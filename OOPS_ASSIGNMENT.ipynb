{
  "nbformat": 4,
  "nbformat_minor": 0,
  "metadata": {
    "colab": {
      "provenance": []
    },
    "kernelspec": {
      "name": "python3",
      "display_name": "Python 3"
    },
    "language_info": {
      "name": "python"
    }
  },
  "cells": [
    {
      "cell_type": "markdown",
      "source": [
        "#THEORY QUESTIONS\n"
      ],
      "metadata": {
        "id": "f3I_QKro7adV"
      }
    },
    {
      "cell_type": "markdown",
      "source": [
        "Q1. What is Object-Oriented Programming (OOP)?\n",
        "\n",
        "Ans. Object-Oriented Programming (OOP) is a programming paradigm centered around the concept of objects, which represent real-world entities or abstract ideas. These objects encapsulate data (attributes or properties) and behavior (methods or functions) and are designed to interact with one another. At the core of OOP are classes, which act as blueprints for creating objects, defining their properties and behaviors. An object is an instance of a class and represents a specific entity. Key principles of OOP include encapsulation, which restricts direct access to an object's internal state to ensure data integrity and security; inheritance, which allows a class to inherit properties and behaviors from another class, promoting code reuse; polymorphism, which enables methods to operate differently based on the object calling them; and abstraction, which hides complex implementation details and exposes only essential functionalities. These principles provide numerous benefits, including modularity for organized code, reusability through inheritance, flexibility via polymorphism, security through encapsulation, and scalability for maintaining and extending code. For instance, in Python, you can create a class Car with properties like brand and color, and methods like start_engine(), then instantiate an object my_car to represent a specific car. OOP simplifies software design, making it more organized, reusable, and easier to manage.\n",
        "\n",
        "\n",
        "Q2. What is a class in OOP?\n",
        "\n",
        "Ans. In Object-Oriented Programming (OOP), a class serves as a blueprint or template for creating objects. It defines a set of attributes (data members or properties) and methods (functions) that collectively describe the behavior and state of the objects instantiated from it. Attributes represent the characteristics or state of an object, such as color, brand, or speed in a Car class, while methods define the behavior or actions an object can perform, such as startEngine() or stopEngine(). A constructor, typically defined as __init__() in Python, is a special method used to initialize objects when they are created, assigning initial values to their attributes. Additionally, access modifiers (public, private, protected) control the visibility of class members, helping enforce encapsulation and ensuring controlled access to an object's data. For example, in Python, a Car class can have attributes like brand and color and a method like start_engine(). By creating an object my_car from this class, specific values can be assigned to its attributes, and methods can be called to perform actions. Classes enable better organization, reusability, and modularity in software development, making code easier to maintain and extend.\n",
        "\n",
        "\n",
        "Q3. What is an object in OOP?\n",
        "\n",
        "Ans. In Object-Oriented Programming (OOP), an object is an instance of a class that represents a real-world entity or concept. It is a self-contained unit containing attributes (data) and methods (functions) that define its state and behavior. Objects are created from a class blueprint and allow programmers to interact with and manipulate data in a structured way. For example, if Car is a class, then myCar = Car(\"Toyota\", \"Red\") creates an object myCar with its own unique properties and behaviors.\n",
        "\n",
        "\n",
        "Q4. What is the difference between abstraction and encapsulation?\n",
        "\n",
        "Ans. In Object-Oriented Programming (OOP), abstraction and encapsulation are two fundamental concepts, but they serve different purposes. Abstraction is about hiding implementation details and showing only the essential features of an object to the user. It simplifies complex systems by focusing only on what an object does rather than how it does it. Abstraction is typically achieved using abstract classes or interfaces. For example, when driving a car, you only need to know how to start the engine or steer the wheel—you don’t need to understand the intricate mechanisms of the engine or the transmission system.\n",
        "\n",
        "On the other hand, encapsulation is about hiding the internal state of an object and only allowing access to it through controlled interfaces (like getters and setters). It protects the object's internal data from being accessed or modified directly, ensuring data integrity and security. Encapsulation is implemented using access modifiers such as private, protected, and public. For instance, in a BankAccount class, the balance attribute might be marked as private, and users can only access or modify it through methods like deposit() or withdraw(). In short, abstraction focuses on simplifying complexity by hiding unnecessary details, while encapsulation focuses on securing and controlling access to data.\n",
        "\n",
        "Q5. What are dunder methods in Python?\n",
        "\n",
        "Ans.  Dunder methods (short for \"double underscore methods\"), also known as magic methods or special methods, are predefined methods in Python with double underscores at the beginning and end of their names (e.g., __init__, __str__, __add__). These methods enable you to define the behavior of your objects for built-in Python operations and functions. For example, the __init__ method acts as a constructor, initializing an object when it is created, while __str__ defines how the object is represented as a string.\n",
        "\n",
        "Dunder methods allow objects to behave like native Python types by supporting operations like addition (__add__), comparison (__eq__, __lt__), or iteration (__iter__). They provide a powerful way to customize object interactions. For instance, you can override __add__ in a class to define how two objects of that class are added together. These methods are integral to making objects intuitive and seamlessly integrable with Python's built-in features.\n",
        "\n",
        "\n",
        "Q6. Explain the concept of inheritance in OOP?\n",
        "\n",
        "Ans.  nheritance is a fundamental concept in Object-Oriented Programming (OOP) that allows one class to inherit properties and behaviors (attributes and methods) from another class. It enables code reuse, promotes a hierarchical structure, and simplifies software maintenance and scalability. Inheritance is based on the idea of creating a parent-child relationship between classes, where a child class (or subclass) derives functionality from a parent class (or superclass).\n",
        "\n",
        "The parent class contains common properties and methods, while the child class can extend or override them to provide specialized behavior. This prevents code duplication and allows developers to create new classes quickly based on existing ones. For example, if there is a Vehicle class with methods like start() and stop(), a Car class can inherit from Vehicle and add unique methods like open_sunroof(). In Python, inheritance is implemented by passing the parent class as an argument to the child class, such as class Car(Vehicle):. There are different types of inheritance, including single inheritance, multiple inheritance, multilevel inheritance, and hierarchical inheritance, each serving specific use cases. In short, inheritance allows developers to build more organized, reusable, and extensible code structures.\n",
        "\n",
        "Q7.  What is polymorphism in OOP?\n",
        "\n",
        "Ans. **Polymorphism** in **Object-Oriented Programming (OOP)** refers to the ability of **objects of different classes to be treated as objects of a common superclass**, enabling a single interface to represent different types of behavior. The term **polymorphism** means **\"many shapes\"** and allows methods or operations to behave differently based on the object calling them.\n",
        "\n",
        "There are two main types of polymorphism:  \n",
        "\n",
        "1. **Compile-time Polymorphism (Method Overloading)**: Achieved by defining multiple methods with the same name but different parameters (not supported natively in Python).  \n",
        "2. **Runtime Polymorphism (Method Overriding)**: Achieved when a **child class redefines a method** from its parent class with the same name and signature.\n",
        "\n",
        "For example, consider a `Shape` superclass with a method `draw()`. Subclasses like `Circle` and `Rectangle` can override `draw()` to provide their specific implementations. When calling `shape.draw()` on an object, Python will determine at runtime which version of the method to execute, depending on whether the object is a `Circle` or a `Rectangle`. Polymorphism promotes **flexibility**, **code reusability**, and **easier maintenance** in software design.\n",
        "\n",
        "\n",
        "Q8. How is encapsulation achieved in Python?\n",
        "Ans. Encapsulation in Python is achieved by restricting direct access to an object's internal data and allowing it to be accessed or modified only through controlled interfaces like methods (getters and setters). This concept is implemented using access modifiers, which define the visibility and accessibility of class attributes and methods. Python provides three levels of access control: public, protected, and private. Public attributes and methods (e.g., self.name) can be accessed freely from both inside and outside the class. Protected members (e.g., self._name) are indicated by a single underscore and suggest that they should not be accessed directly but can still be accessed if needed. Private members (e.g., self.__name) are prefixed with double underscores, making them inaccessible from outside the class directly, though they can still be accessed indirectly through getter and setter methods.\n",
        "\n",
        "For example, in a BankAccount class, the balance attribute might be marked as private (__balance) to prevent unauthorized modification. Instead, the class might provide methods like get_balance() to view the balance and deposit(amount) or withdraw(amount) to modify it securely. Encapsulation ensures data integrity, security, and control over how data is manipulated, making the code more robust and easier to maintain.\n",
        "\n",
        "Q9. What is a constructor in Python?\n",
        "\n",
        "Ans.  In Python, a constructor is a special method called __init__() that is automatically invoked when an object of a class is created. Its primary purpose is to initialize the object's attributes with initial values, setting up the object in a valid state. The __init__() method is not a returnable value; it simply modifies the object's attributes. It typically takes at least one parameter, self, which refers to the current instance of the class, and can also accept additional parameters to allow the object to be initialized with custom values. For example, in a Person class, __init__() can be used to initialize attributes like name and age when creating a new Person object. This makes the constructor an essential part of object creation and initialization in Python.\n",
        "\n",
        "Q10. What are class and static methods in Python?\n",
        "\n",
        "Ans. 1. **Class Methods**: A **class method** is a method that is bound to the class rather than its instance. It is defined using the `@classmethod` decorator and takes **`cls`** (the class itself) as the first parameter, not `self`. Class methods can access or modify class-level attributes, but they cannot access instance-specific attributes.\n",
        "\n",
        "2. **Static Methods**: A **static method** is a method that does not take `self` or `cls` as its first argument. It is defined using the `@staticmethod` decorator. Static methods behave like regular functions, but they are part of the class's namespace. They cannot modify or access instance or class-level attributes.\n",
        "\n",
        "3. **Usage of Class Methods**: Class methods are typically used for operations that affect the class as a whole or need to instantiate objects using different ways or factory methods. For example, a `from_string()` method that creates an instance from a string.\n",
        "\n",
        "4. **Usage of Static Methods**: Static methods are used when you need to define a function that is related to the class but doesn't require access to its instance or class attributes. For example, utility functions or calculations that don't rely on object state.\n",
        "\n",
        "5. **Difference Between Class and Static Methods**: The key difference is that class methods can access and modify the class state using `cls`, while static methods have no access to either class or instance state. Static methods are purely independent functions within a class.\n",
        "\n",
        "\n",
        "Q11. What is method overloading in Python?\n",
        "\n",
        "Ans.  1. **Method Overloading Concept**: **Method overloading** refers to the ability to define multiple methods with the same name but different parameter types or numbers. This allows a class to handle different types of input or perform similar operations in various ways based on the method signature.\n",
        "\n",
        "2. **Python’s Approach**: Python does not natively support method overloading, meaning you cannot define multiple methods with the same name and different parameters. Instead, Python handles overloading behavior by using default arguments or variable-length arguments (`*args` and `**kwargs`) to allow flexibility in method calls.\n",
        "\n",
        "3. **Alternative Using Default Arguments**: To simulate overloading in Python, you can define a single method with default values for parameters, or use variable-length arguments to handle different types or numbers of arguments. For example, a method could accept one, two, or more arguments and adjust its behavior accordingly, depending on what is passed.\n",
        "\n",
        "\n",
        "Q12. What is method overriding in OOP?\n",
        "\n",
        "Ans.  Method overriding in Object-Oriented Programming (OOP) is a concept where a subclass provides its own specific implementation of a method that is already defined in its superclass. This allows the subclass to redefine the behavior of the method to suit its own requirements, while still retaining the same method signature (name and parameters) as the parent class. Method overriding is typically used to modify or extend the functionality of the inherited method in a subclass. When a method is called on an object, Python will use the method defined in the subclass, even if the reference is of the parent class type. This enables polymorphism, where the same method can exhibit different behaviors based on the object calling it. For example, a Vehicle class might have a start() method, and a Car subclass can override this method to include specific behavior like turning on the radio, while a Truck subclass may include additional functionality like raising a truck bed.\n",
        "\n",
        "\n",
        "Q13. What is a property decorator in Python?\n",
        "\n",
        "Ans.  In Python, a property decorator is used to define a method as a getter for an attribute, allowing you to access it like a regular attribute but with the functionality of a method. This is done by using the @property decorator before the method definition, enabling the method to be called without parentheses, just like an attribute. The main benefit is that you can control the access to an attribute while keeping the syntax clean.\n",
        "\n",
        "A property can also include a setter method to allow setting the value of the attribute, using the @<property_name>.setter decorator. This is helpful for validating or modifying the value before assigning it to the attribute. By using a property, you encapsulate the logic of getting or setting an attribute without directly exposing it, offering better control over its manipulation.\n",
        "\n",
        "Additionally, the deleter method can be defined using the @<property_name>.deleter decorator to control the behavior when the attribute is deleted. Properties in Python help promote encapsulation and data integrity, giving you the flexibility to add custom logic while maintaining a simple and intuitive interface for the users of your class.\n",
        "\n",
        "Q14. Why is polymorphism important in OOP?\n",
        "\n",
        "Ans. 1. **Flexibility**: Polymorphism allows you to write more flexible code, where a single method can work with objects of different classes. This means you can design more general functions that can operate on a variety of object types, enhancing the adaptability of your code.\n",
        "\n",
        "2. **Code Reusability**: By using polymorphism, you can write common functions for a set of related classes without needing to duplicate code. A single function or method can be used with multiple object types, reducing redundancy and improving maintainability.\n",
        "\n",
        "3. **Simplification**: It simplifies code maintenance and extension. When new classes are added, polymorphism ensures that the existing codebase can still work with them without requiring major changes, as long as the new class follows the expected interface.\n",
        "\n",
        "4. **Improved Scalability**: Polymorphism helps in scaling applications by allowing easy integration of new subclasses that behave differently but share a common interface. This makes the system more extensible without breaking existing functionality.\n",
        "\n",
        "5. **Enhanced Maintainability**: Polymorphism makes code easier to understand and maintain, as it allows you to interact with objects in a consistent way while letting the specific behavior of each object be defined in its own class, minimizing complexity.\n",
        "\n",
        "\n",
        "Q15. What is an abstract class in Python?\n",
        "\n",
        "Ans. An abstract class in Python is a class that cannot be instantiated directly and is designed to serve as a base for other classes. It can contain abstract methods, which are methods that are declared but have no implementation in the abstract class itself. These methods must be implemented by any subclass that inherits from the abstract class. Abstract classes are defined using the abc (Abstract Base Class) module, and the class itself is marked as abstract by inheriting from ABC.\n",
        "\n",
        "Abstract classes provide a way to define a common interface for all subclasses while allowing those subclasses to provide their own specific implementations. They are useful when you have a group of related classes that share common behavior but also have specific details that differ across those classes. Abstract classes enforce that the subclasses implement required methods, ensuring consistency across the codebase. For example, in a class hierarchy of Shape classes, an abstract method draw() could be defined in the abstract Shape class, with each subclass (like Circle or Rectangle) providing its own implementation of draw().\n",
        "\n",
        "\n",
        "Q16. What are the advantages of OOP?\n",
        "\n",
        "Ans. **1. Modularity:**  \n",
        "OOP allows for organizing code into discrete, self-contained units (classes and objects). This modular structure makes it easier to manage and maintain complex software systems, as you can work on individual objects or components independently without affecting the entire system.\n",
        "\n",
        "**2. Reusability:**  \n",
        "OOP promotes **code reuse** through inheritance, where new classes can inherit properties and behaviors from existing ones. This reduces redundancy and allows developers to create new functionality based on already tested and working code, making the development process more efficient.\n",
        "\n",
        "**3. Scalability:**  \n",
        "OOP makes it easier to **scale** applications by allowing new features to be added in a modular and systematic way. As the system grows, you can extend or modify individual classes and objects without disrupting other parts of the code, ensuring that the software remains manageable as it evolves.\n",
        "\n",
        "**4. Maintainability:**  \n",
        "Because of encapsulation and modularity, OOP code is generally easier to maintain. By hiding the internal workings of objects and exposing only necessary interfaces, changes in one part of the code do not have a widespread impact, making it easier to troubleshoot and update.\n",
        "\n",
        "**5. Flexibility and Extensibility:**  \n",
        "OOP supports **polymorphism** and **inheritance**, which allow for flexible and extensible systems. New classes and behaviors can be added without changing the core structure, and methods can be customized or overridden to behave differently for different types of objects. This flexibility makes it easier to adapt to new requirements or changes in business logic.\n",
        "\n",
        "\n",
        "Q17. What is the difference between a class variable and an instance variable?\n",
        "\n",
        "Ans.  A class variable is a variable that is shared among all instances of a class. It is defined within the class but outside of any instance methods. Class variables are common to every object created from the class, meaning they are not tied to any specific instance, but rather to the class itself. If one instance changes the value of a class variable, it affects all other instances of that class. On the other hand, an instance variable is a variable that is specific to a particular instance (or object) of the class. It is typically defined inside the constructor method (__init__) and is accessed through self. Each object created from the class has its own copy of instance variables, so changes made to an instance variable in one object do not affect others. In short, class variables are shared across all instances, while instance variables are unique to each object.\n",
        "\n",
        "Q18. What is multiple inheritance in Python?\n",
        "\n",
        "Ans.  Multiple inheritance in Python is a feature that allows a class to inherit from more than one base class. This means that a derived class can inherit attributes and methods from multiple parent classes, enabling code reuse and modularity. When a class inherits from multiple classes, it can access the methods and properties of all of its base classes, and it can also override or extend those methods to provide more specific functionality. Multiple inheritance can be particularly useful when you need to combine the behaviors or attributes of different classes into one cohesive class.\n",
        "\n",
        "However, multiple inheritance can lead to complexities, particularly with method resolution order (MRO). When a method or attribute is called on a derived class, Python needs to determine which base class’s method to use, especially when multiple base classes define the same method. Python uses the C3 linearization algorithm to determine the order in which classes are considered, ensuring that the classes are processed in a consistent and predictable manner. While multiple inheritance can be powerful, it requires careful design to avoid conflicts and to make the class hierarchy maintainable.\n",
        "\n",
        "Q19.  Explain the purpose of ‘’__str__’ and ‘__repr__’ ‘ methods in Python.\n",
        "\n",
        "Ans.  In Python, the `__str__` and `__repr__` methods are special methods used for string representation of objects, but they serve different purposes.\n",
        "\n",
        "The `__str__` method is used to define a \"user-friendly\" string representation of an object. When you use `print()` or `str()` on an object, Python will call the `__str__` method to convert the object into a string that is easy to read and understand. The `__str__` method is typically designed to provide a concise, human-readable description of the object. For example, if you have a `Car` class, the `__str__` method might return something like `\"A red car with four wheels\"`.\n",
        "\n",
        "The `__repr__` method, on the other hand, is intended for a more detailed and unambiguous string representation of an object, primarily aimed at developers. It is called when you call `repr()` on an object or when you enter an object in the Python interpreter. The goal of `__repr__` is to return a string that could, in theory, be used to recreate the object using `eval()`. This is why `__repr__` should return a representation that includes all the necessary details to fully describe the object. For instance, the `__repr__` method of the `Car` class might return a string like `\"Car(color='red', wheels=4)\"`.\n",
        "\n",
        "In summary, `__str__` is meant for readability and user-facing output, while `__repr__` is more for debugging and providing a clear representation of the object for developers.\n",
        "\n",
        "\n",
        "Q20. What is the significance of the ‘super()’ function in Python?\n",
        "\n",
        "Ans.  The super() function in Python is used to call methods from a parent or superclass in a class hierarchy, typically in the context of inheritance. It allows a derived class to invoke methods defined in its base class without explicitly naming the base class. This is particularly useful when working with multiple inheritance or when overriding methods, as it ensures that the method resolution order (MRO) is followed correctly, and the correct method from the base class is called.\n",
        "\n",
        "The main significance of super() lies in its ability to facilitate code reuse and maintain a clean, efficient inheritance structure. It prevents the need for hardcoding the base class name, making the code more flexible and maintainable, especially in the case of class hierarchies where the base class might change. By using super(), you can ensure that the parent class methods are properly called, and that any necessary initialization or behavior from the parent class is executed before or after the child class method. This is often used in constructors (__init__ methods) to ensure that the initialization code from all the parent classes is executed.\n",
        "\n",
        "Q21.  What is the significance of the __del__ method in Python?\n",
        "\n",
        "Ans.  The __del__ method in Python is a special method known as a destructor. It is called when an object is about to be destroyed, typically when it is no longer referenced, and the Python garbage collector is preparing to deallocate the object's memory. The purpose of __del__ is to allow the object to perform any necessary cleanup operations before it is destroyed, such as closing files, releasing network resources, or freeing other external resources. By overriding the __del__ method, you can define custom cleanup logic for your objects.\n",
        "\n",
        "However, the use of __del__ should be done with caution. Python's garbage collection is based on reference counting and may involve cycles that are not immediately cleared, so the __del__ method might not be called immediately after an object goes out of scope. This can lead to situations where resources are not released promptly, causing potential memory leaks or other issues. Additionally, since the destructor is executed at an uncertain time, it can be challenging to rely on it for critical resource management. It is generally recommended to use context managers (via with statements) or explicitly manage resource cleanup with methods like close() rather than relying solely on __del__.\n",
        "\n",
        "\n",
        "Q22.  What is the difference between @staticmethod and @classmethod in Python?\n",
        "\n",
        "Ans.  In Python, @staticmethod and @classmethod are both decorators used to define methods that are not bound to an instance of the class, but they serve different purposes and have different behaviors.\n",
        "\n",
        "A @staticmethod is a method that does not take the instance (self) or the class (cls) as its first argument. It behaves like a regular function but belongs to the class's namespace. Since @staticmethod does not have access to the class or instance, it can be called on the class itself or on instances of the class. This is typically used for utility functions or methods that don't need to modify class or instance state but still belong to the class for organizational purposes. An example of a static method could be a helper function that performs a calculation related to the class but does not need to interact with class properties or methods.\n",
        "\n",
        "On the other hand, a @classmethod is a method that takes the class (cls) as its first argument, rather than an instance. This allows the method to modify class-level attributes or to instantiate new objects of the class. Class methods are often used for factory methods or for methods that need to work with the class itself rather than individual instances. The key distinction here is that @classmethod has access to the class and its state, and it can modify or interact with class variables or other class methods. Class methods are typically used when you need functionality that applies to the class as a whole, not just an individual instance.\n",
        "\n",
        "In summary, the main difference between @staticmethod and @classmethod is that a static method does not receive any special first argument (neither self nor cls), making it independent of both the class and instances, while a class method receives the class itself as the first argument (cls), allowing it to modify or interact with the class state. Static methods are used for functions that belong to the class but do not require access to class or instance data, while class methods are useful for operations that involve the class itself, including class-level modifications and instantiations.\n",
        "\n",
        "Q23. How does polymorphism work in Python with inheritance?\n",
        "\n",
        "Ans.  Polymorphism in Python, particularly in the context of inheritance, refers to the ability of different classes to be treated as instances of the same class through a common interface, typically by overriding methods. In Python, polymorphism is achieved through method overriding, where a subclass provides a specific implementation of a method that is already defined in its parent class. This allows objects of different classes to be used interchangeably as long as they adhere to the same interface (i.e., they have the same method signature). The actual method that is called depends on the type of the object, not the type of the reference or variable holding it.\n",
        "\n",
        "For example, consider a base class `Animal` with a method `speak()`. Different subclasses of `Animal`, such as `Dog` and `Cat`, might override the `speak()` method to provide their own behavior. If you create instances of `Dog` and `Cat` and call the `speak()` method on them, Python will dynamically choose the appropriate method based on the actual type of the object (either `Dog` or `Cat`), not the reference type. This dynamic behavior is an essential feature of polymorphism in Python and allows you to write more flexible and reusable code. It is also an example of how inheritance enables polymorphism—subclasses inherit the structure of the base class but can provide their own implementations of inherited methods.\n",
        "\n",
        "Q24.   What is method chaining in Python OOP?\n",
        "\n",
        "Ans. Method chaining in Python Object-Oriented Programming (OOP) refers to the practice of calling multiple methods on the same object, one after another, in a single line of code. This is made possible by having each method return the object itself (self) rather than returning a value or None. The return of the object allows subsequent method calls to be chained directly to the original object, creating a fluid, readable, and concise syntax.\n",
        "\n",
        "Method chaining is commonly used in scenarios where multiple operations need to be performed on an object without needing to reassign or call the object repeatedly. For example, when configuring an object or modifying its attributes step by step, method chaining can make the code more compact and easier to follow. A typical use case is in fluent interfaces, where methods are designed to be called in a chain, such as setting multiple properties of an object in a streamlined fashion.\n",
        "\n",
        "To implement method chaining in Python, a class's methods must return self after performing their operations. This ensures that the object can be used to invoke another method right after.\n",
        "\n",
        "Q25.  What is the purpose of the __call__ method in Python?\n",
        "\n",
        "Ans.  The __call__ method in Python is a special method that allows an instance of a class to be called as if it were a function. When you define the __call__ method in a class, it enables the objects of that class to behave like callable functions, meaning you can use parentheses and pass arguments to the object just as you would with a function. This feature is useful when you want to encapsulate callable behavior within an object, making it act like a function without the need to explicitly define a separate function. The __call__ method takes the instance (self) as its first argument, followed by any other arguments that are passed during the call. It can be used in various scenarios, such as implementing function-like objects, creating functors (objects that can be called like functions), or simulating more complex function behaviors within an object-oriented design.\n",
        "\n",
        "\n",
        "\n",
        "\n",
        "\n",
        "\n",
        "\n",
        "\n",
        "\n",
        "\n",
        "\n",
        "\n",
        "\n"
      ],
      "metadata": {
        "id": "lGCgjEdH7haM"
      }
    },
    {
      "cell_type": "markdown",
      "source": [
        "#PRACTICAL QUESTIONS\n"
      ],
      "metadata": {
        "id": "q7od_xWtCS_d"
      }
    },
    {
      "cell_type": "code",
      "source": [
        "#Q1.  Create a parent class Animal with a method speak() that prints a generic message. Create a child class Dog\n",
        "#that overrides the speak() method to print \"Bark!\".\n",
        "\n",
        "\n",
        "class Animal:\n",
        "    def speak(self):\n",
        "        print(\"Generic animal sound\")\n",
        "\n",
        "class Dog(Animal):\n",
        "    def speak(self):\n",
        "        print(\"Bark!\")\n",
        "\n",
        "# Example usage\n",
        "animal = Animal()\n",
        "animal.speak()\n",
        "\n",
        "dog = Dog()\n",
        "dog.speak()\n"
      ],
      "metadata": {
        "id": "R6udu3gdCia9",
        "outputId": "18881f13-97bf-404f-a0dd-2031736fa949",
        "colab": {
          "base_uri": "https://localhost:8080/"
        }
      },
      "execution_count": 1,
      "outputs": [
        {
          "output_type": "stream",
          "name": "stdout",
          "text": [
            "Generic animal sound\n",
            "Bark!\n"
          ]
        }
      ]
    },
    {
      "cell_type": "code",
      "source": [
        "#Q2.  Write a program to create an abstract class Shape with a method area(). Derive classes Circle and Rectangle\n",
        "#from it and implement the area() method in both.\n",
        "\n",
        "\n",
        "from abc import ABC, abstractmethod\n",
        "import math\n",
        "\n",
        "class Shape(ABC):\n",
        "    @abstractmethod\n",
        "    def area(self):\n",
        "        pass\n",
        "\n",
        "class Circle(Shape):\n",
        "    def __init__(self, radius):\n",
        "        self.radius = radius\n",
        "\n",
        "    def area(self):\n",
        "        return math.pi * self.radius**2\n",
        "\n",
        "class Rectangle(Shape):\n",
        "    def __init__(self, width, height):\n",
        "        self.width = width\n",
        "        self.height = height\n",
        "\n",
        "    def area(self):\n",
        "        return self.width * self.height\n",
        "\n",
        "# Example usage\n",
        "circle = Circle(5)\n",
        "print(\"Circle area:\", circle.area())\n",
        "\n",
        "rectangle = Rectangle(4, 6)\n",
        "print(\"Rectangle area:\", rectangle.area())"
      ],
      "metadata": {
        "id": "QXetMB23Dv5V",
        "outputId": "f7b67a19-2bd7-4830-b9e8-755c6666bafe",
        "colab": {
          "base_uri": "https://localhost:8080/"
        }
      },
      "execution_count": 3,
      "outputs": [
        {
          "output_type": "stream",
          "name": "stdout",
          "text": [
            "Circle area: 78.53981633974483\n",
            "Rectangle area: 24\n"
          ]
        }
      ]
    },
    {
      "cell_type": "code",
      "source": [
        "# Q3.  Implement a multi-level inheritance scenario where a class Vehicle has an attribute type. Derive a class Car\n",
        "# and further derive a class ElectricCar that adds a battery attribute. as a basic coder\n",
        "\n",
        "class Vehicle:\n",
        "    def __init__(self, vehicle_type):\n",
        "        self.type = vehicle_type\n",
        "\n",
        "class Car(Vehicle):\n",
        "    def __init__(self, vehicle_type, make):\n",
        "        super().__init__(vehicle_type)\n",
        "        self.make = make\n",
        "\n",
        "class ElectricCar(Car):\n",
        "    def __init__(self, vehicle_type, make, battery_capacity):\n",
        "        super().__init__(vehicle_type, make)\n",
        "        self.battery = battery_capacity\n",
        "\n",
        "# Example usage\n",
        "electric_car = ElectricCar(\"Electric\", \"Tesla\", \"100kWh\")\n",
        "print(f\"Vehicle type: {electric_car.type}\")\n",
        "print(f\"Make: {electric_car.make}\")\n",
        "print(f\"Battery Capacity: {electric_car.battery}\")"
      ],
      "metadata": {
        "id": "tY1yN3iRDN6L",
        "outputId": "28711fa5-9c33-42c1-b055-0ed88dc3f454",
        "colab": {
          "base_uri": "https://localhost:8080/"
        }
      },
      "execution_count": 4,
      "outputs": [
        {
          "output_type": "stream",
          "name": "stdout",
          "text": [
            "Vehicle type: Electric\n",
            "Make: Tesla\n",
            "Battery Capacity: 100kWh\n"
          ]
        }
      ]
    },
    {
      "cell_type": "code",
      "source": [
        "#Q4. Implement a multi-level inheritance scenario where a class Vehicle has an attribute type. Derive a class Car\n",
        "#and further derive a class ElectricCar that adds a battery attribute.\n",
        "\n",
        "# Parent class Vehicle\n",
        "class Vehicle:\n",
        "    def __init__(self, type):\n",
        "        self.type = type\n",
        "\n",
        "    def display_info(self):\n",
        "        print(f\"This is a {self.type}.\")\n",
        "\n",
        "# Child class Car that inherits from Vehicle\n",
        "class Car(Vehicle):\n",
        "    def __init__(self, type, make, model):\n",
        "        # Initialize attributes from the parent class\n",
        "        super().__init__(type)\n",
        "        self.make = make\n",
        "        self.model = model\n",
        "\n",
        "    def display_info(self):\n",
        "        super().display_info()\n",
        "        print(f\"It is a {self.make} {self.model} car.\")\n",
        "\n",
        "# Grandchild class ElectricCar that inherits from Car\n",
        "class ElectricCar(Car):\n",
        "    def __init__(self, type, make, model, battery):\n",
        "        # Initialize attributes from the parent class (Car)\n",
        "        super().__init__(type, make, model)\n",
        "        self.battery = battery\n",
        "\n",
        "    def display_info(self):\n",
        "        super().display_info()\n",
        "        print(f\"It has a {self.battery} battery.\")\n",
        "\n",
        "# Creating an instance of ElectricCar\n",
        "electric_car = ElectricCar(\"Electric Vehicle\", \"Tesla\", \"Model 3\", \"100 kWh\")\n",
        "\n",
        "# Displaying information of the ElectricCar\n",
        "electric_car.display_info()\n"
      ],
      "metadata": {
        "id": "_5Ht71vJD__b",
        "outputId": "a4215920-829e-463b-d643-e1c928e1bda4",
        "colab": {
          "base_uri": "https://localhost:8080/"
        }
      },
      "execution_count": 5,
      "outputs": [
        {
          "output_type": "stream",
          "name": "stdout",
          "text": [
            "This is a Electric Vehicle.\n",
            "It is a Tesla Model 3 car.\n",
            "It has a 100 kWh battery.\n"
          ]
        }
      ]
    },
    {
      "cell_type": "code",
      "source": [
        "#Q5.  Write a program to demonstrate encapsulation by creating a class BankAccount with private attributes\n",
        "#balance and methods to deposit, withdraw, and check balance.\n",
        "\n",
        "class BankAccount:\n",
        "    def __init__(self, initial_balance=0):\n",
        "        # Private attribute\n",
        "        self.__balance = initial_balance\n",
        "\n",
        "    # Method to deposit money\n",
        "    def deposit(self, amount):\n",
        "        if amount > 0:\n",
        "            self.__balance += amount\n",
        "            print(f\"Deposited {amount}. New balance: {self.__balance}\")\n",
        "        else:\n",
        "            print(\"Deposit amount must be positive.\")\n",
        "\n",
        "    # Method to withdraw money\n",
        "    def withdraw(self, amount):\n",
        "        if amount > 0 and amount <= self.__balance:\n",
        "            self.__balance -= amount\n",
        "            print(f\"Withdrew {amount}. New balance: {self.__balance}\")\n",
        "        else:\n",
        "            print(\"Invalid withdrawal amount or insufficient funds.\")\n",
        "\n",
        "    # Method to check balance\n",
        "    def check_balance(self):\n",
        "        print(f\"Current balance: {self.__balance}\")\n",
        "\n",
        "# Creating an instance of BankAccount\n",
        "account = BankAccount(1000)\n",
        "\n",
        "# Checking balance\n",
        "account.check_balance()\n",
        "\n",
        "# Depositing money\n",
        "account.deposit(500)\n",
        "\n",
        "# Withdrawing money\n",
        "account.withdraw(300)\n",
        "\n",
        "# Trying to withdraw an amount larger than the balance\n",
        "account.withdraw(1500)\n",
        "\n",
        "# Checking balance again\n",
        "account.check_balance()\n",
        "\n"
      ],
      "metadata": {
        "id": "eMzaTdF0Enlj",
        "outputId": "b4e65c78-9639-4b50-ff84-4fde76536547",
        "colab": {
          "base_uri": "https://localhost:8080/"
        }
      },
      "execution_count": 6,
      "outputs": [
        {
          "output_type": "stream",
          "name": "stdout",
          "text": [
            "Current balance: 1000\n",
            "Deposited 500. New balance: 1500\n",
            "Withdrew 300. New balance: 1200\n",
            "Invalid withdrawal amount or insufficient funds.\n",
            "Current balance: 1200\n"
          ]
        }
      ]
    },
    {
      "cell_type": "code",
      "source": [
        "#Q6. Demonstrate runtime polymorphism using a method play() in a base class Instrument. Derive classes Guitar\n",
        "#and Piano that implement their own version of play().\n",
        "\n",
        "# Base class\n",
        "class Instrument:\n",
        "    def play(self):\n",
        "        print(\"Playing the instrument\")\n",
        "\n",
        "# Derived class Guitar\n",
        "class Guitar(Instrument):\n",
        "    def play(self):\n",
        "        print(\"Playing the guitar\")\n",
        "\n",
        "# Derived class Piano\n",
        "class Piano(Instrument):\n",
        "    def play(self):\n",
        "        print(\"Playing the piano\")\n",
        "\n",
        "# Demonstrating runtime polymorphism\n",
        "def perform_play(instrument):\n",
        "    instrument.play()  # The appropriate play() method is called based on the object type\n",
        "\n",
        "# Creating objects of Guitar and Piano\n",
        "guitar = Guitar()\n",
        "piano = Piano()\n",
        "\n",
        "# Passing objects to the perform_play function\n",
        "perform_play(guitar)  # Output: Playing the guitar\n",
        "perform_play(piano)   # Output: Playing the piano\n",
        "\n"
      ],
      "metadata": {
        "id": "zjj8w9zmFXDG",
        "outputId": "746bc2d0-f374-45b6-cc19-afb1b88d6f07",
        "colab": {
          "base_uri": "https://localhost:8080/"
        }
      },
      "execution_count": 7,
      "outputs": [
        {
          "output_type": "stream",
          "name": "stdout",
          "text": [
            "Playing the guitar\n",
            "Playing the piano\n"
          ]
        }
      ]
    },
    {
      "cell_type": "code",
      "source": [
        "#Q7.  Create a class MathOperations with a class method add_numbers() to add two numbers and a static\n",
        "#method subtract_numbers() to subtract two numbers.\n",
        "\n",
        "class MathOperations:\n",
        "    @classmethod\n",
        "    def add_numbers(cls, num1, num2):\n",
        "        return num1 + num2\n",
        "\n",
        "    @staticmethod\n",
        "    def subtract_numbers(num1, num2):\n",
        "        return num1 - num2\n"
      ],
      "metadata": {
        "id": "lXN9PGI-Fr35"
      },
      "execution_count": 9,
      "outputs": []
    },
    {
      "cell_type": "code",
      "source": [
        "#Q8.  Implement a class Person with a class method to count the total number of persons created.\n",
        "\n",
        "class Person:\n",
        "    # Class variable to count the number of persons created\n",
        "    total_persons = 0\n",
        "\n",
        "    def __init__(self, name, age):\n",
        "        self.name = name\n",
        "        self.age = age\n",
        "        # Increment the total_persons counter whenever a new instance is created\n",
        "        Person.total_persons += 1\n",
        "\n",
        "    @classmethod\n",
        "    def count_persons(cls):\n",
        "        return cls.total_persons\n"
      ],
      "metadata": {
        "id": "g4ItjYEoGAuc"
      },
      "execution_count": 10,
      "outputs": []
    },
    {
      "cell_type": "code",
      "source": [
        "\n",
        "##Q9.   Write a class Fraction with attributes numerator and denominator. Override the str method to display the\n",
        "#fraction as \"numerator/denominator\".\n",
        "\n",
        "class Fraction:\n",
        "    def __init__(self, numerator, denominator):\n",
        "        self.numerator = numerator\n",
        "        self.denominator = denominator\n",
        "\n",
        "    def __str__(self):\n",
        "        return f\"{self.numerator}/{self.denominator}\"\n"
      ],
      "metadata": {
        "id": "v4Zusnf0GjkN"
      },
      "execution_count": 13,
      "outputs": []
    },
    {
      "cell_type": "code",
      "source": [
        "#Q10.  Demonstrate operator overloading by creating a class Vector and overriding the add method to add two\n",
        "#vectors.\n",
        "\n",
        "class Vector:\n",
        "    def __init__(self, x, y):\n",
        "        self.x = x\n",
        "        self.y = y\n",
        "\n",
        "    def __add__(self, other):\n",
        "        # Adding corresponding components of two vectors\n",
        "        return Vector(self.x + other.x, self.y + other.y)\n",
        "\n",
        "    def __str__(self):\n",
        "        return f\"({self.x}, {self.y})\"\n"
      ],
      "metadata": {
        "id": "ZpH5BP6GGzo4"
      },
      "execution_count": 14,
      "outputs": []
    },
    {
      "cell_type": "code",
      "source": [
        "#Q11.   Create a class Person with attributes name and age. Add a method greet() that prints \"Hello, my name is\n",
        "#{name} and I am {age} years old.\n",
        "\n",
        "class Person:\n",
        "    def __init__(self, name, age):\n",
        "        self.name = name\n",
        "        self.age = age\n",
        "\n",
        "    def greet(self):\n",
        "        print(f\"Hello, my name is {self.name} and I am {self.age} years old.\")\n",
        "\n",
        "# Create a Person object\n",
        "person = Person(\"Alice\", 30)\n",
        "\n",
        "# Call the greet method\n",
        "person.greet()  # Output: Hello, my name is Alice and I am 30 years old.\n",
        "\n"
      ],
      "metadata": {
        "id": "l5zm4j_1HK2g",
        "outputId": "c2d4dfbc-7d51-4bd0-fa83-d021d7c0fd4f",
        "colab": {
          "base_uri": "https://localhost:8080/"
        }
      },
      "execution_count": 16,
      "outputs": [
        {
          "output_type": "stream",
          "name": "stdout",
          "text": [
            "Hello, my name is Alice and I am 30 years old.\n"
          ]
        }
      ]
    },
    {
      "cell_type": "code",
      "source": [
        "#Q12.   Implement a class Student with attributes name and grades. Create a method average_grade() to compute\n",
        "#the average of the grades.\n",
        "\n",
        "class Student:\n",
        "    def __init__(self, name, grades):\n",
        "        self.name = name\n",
        "        self.grades = grades\n",
        "\n",
        "    def average_grade(self):\n",
        "        if len(self.grades) == 0:\n",
        "            return 0  # Avoid division by zero if there are no grades\n",
        "        return sum(self.grades) / len(self.grades)\n",
        "\n",
        "# Example usage\n",
        "student1 = Student(\"John Doe\", [90, 80, 85, 95])\n",
        "print(f\"{student1.name}'s average grade: {student1.average_grade()}\")\n",
        "\n",
        "student2 = Student(\"Jane Smith\", [88, 92, 84])\n",
        "print(f\"{student2.name}'s average grade: {student2.average_grade()}\")\n"
      ],
      "metadata": {
        "id": "nsve3Vs8HYio",
        "outputId": "5f2282d5-3383-43c7-e9b4-582aac9d0541",
        "colab": {
          "base_uri": "https://localhost:8080/"
        }
      },
      "execution_count": 17,
      "outputs": [
        {
          "output_type": "stream",
          "name": "stdout",
          "text": [
            "John Doe's average grade: 87.5\n",
            "Jane Smith's average grade: 88.0\n"
          ]
        }
      ]
    },
    {
      "cell_type": "code",
      "source": [
        "#Q13. Create a class Rectangle with methods set_dimensions() to set the dimensions and area() to calculate the\n",
        "#area.\n",
        "\n",
        "class Rectangle:\n",
        "    def __init__(self, length=0, width=0):\n",
        "        self.length = length\n",
        "        self.width = width\n",
        "\n",
        "    def set_dimensions(self, length, width):\n",
        "        self.length = length\n",
        "        self.width = width\n",
        "\n",
        "    def area(self):\n",
        "        return self.length * self.width\n",
        "\n",
        "# Example usage\n",
        "rect = Rectangle()\n",
        "rect.set_dimensions(5, 3)\n",
        "print(f\"Area of rectangle: {rect.area()}\")\n",
        "\n",
        "rect2 = Rectangle(7, 4)\n",
        "print(f\"Area of second rectangle: {rect2.area()}\")\n",
        "\n"
      ],
      "metadata": {
        "id": "qCpiqWjHH7AI",
        "outputId": "7d1ac065-fda8-4526-b211-8dd80d85362e",
        "colab": {
          "base_uri": "https://localhost:8080/"
        }
      },
      "execution_count": 18,
      "outputs": [
        {
          "output_type": "stream",
          "name": "stdout",
          "text": [
            "Area of rectangle: 15\n",
            "Area of second rectangle: 28\n"
          ]
        }
      ]
    },
    {
      "cell_type": "code",
      "source": [
        "#Q14.  Create a class Employee with a method calculate_salary() that computes the salary based on hours worked\n",
        "#and hourly rate. Create a derived class Manager that adds a bonus to the salary\n",
        "\n",
        "class Employee:\n",
        "    def __init__(self, name, hours_worked, hourly_rate):\n",
        "        self.name = name\n",
        "        self.hours_worked = hours_worked\n",
        "        self.hourly_rate = hourly_rate\n",
        "\n",
        "    def calculate_salary(self):\n",
        "        return self.hours_worked * self.hourly_rate\n",
        "\n",
        "class Manager(Employee):\n",
        "    def __init__(self, name, hours_worked, hourly_rate, bonus):\n",
        "        super().__init__(name, hours_worked, hourly_rate)\n",
        "        self.bonus = bonus\n",
        "\n",
        "    def calculate_salary(self):\n",
        "        base_salary = super().calculate_salary()\n",
        "        return base_salary + self.bonus\n",
        "\n",
        "# Example usage\n",
        "employee = Employee(\"John Doe\", 40, 20)\n",
        "print(f\"{employee.name}'s salary: ${employee.calculate_salary()}\")\n",
        "\n",
        "manager = Manager(\"Jane Smith\", 40, 30, 500)\n",
        "print(f\"{manager.name}'s salary with bonus: ${manager.calculate_salary()}\")\n"
      ],
      "metadata": {
        "id": "qxgR3cg0IKC-",
        "outputId": "d9a901fe-03d6-46a8-c260-ece54c054b21",
        "colab": {
          "base_uri": "https://localhost:8080/"
        }
      },
      "execution_count": 19,
      "outputs": [
        {
          "output_type": "stream",
          "name": "stdout",
          "text": [
            "John Doe's salary: $800\n",
            "Jane Smith's salary with bonus: $1700\n"
          ]
        }
      ]
    },
    {
      "cell_type": "code",
      "source": [
        "#Q15.   Create a class Product with attributes name, price, and quantity. Implement a method total_price() that\n",
        "#calculates the total price of the product.\n",
        "\n",
        "class Product:\n",
        "    def __init__(self, name, price, quantity):\n",
        "        self.name = name\n",
        "        self.price = price\n",
        "        self.quantity = quantity\n",
        "\n",
        "    def total_price(self):\n",
        "        return self.price * self.quantity\n",
        "\n",
        "# Example usage\n",
        "product = Product(\"Laptop\", 1000, 3)\n",
        "print(f\"Total price of {product.name}: ${product.total_price()}\")\n",
        "\n",
        "product2 = Product(\"Headphones\", 150, 2)\n",
        "print(f\"Total price of {product2.name}: ${product2.total_price()}\")\n"
      ],
      "metadata": {
        "id": "xAT1s7t1Ih3_",
        "outputId": "d1e4c576-f32b-49e1-b094-55ed865e0d95",
        "colab": {
          "base_uri": "https://localhost:8080/"
        }
      },
      "execution_count": 20,
      "outputs": [
        {
          "output_type": "stream",
          "name": "stdout",
          "text": [
            "Total price of Laptop: $3000\n",
            "Total price of Headphones: $300\n"
          ]
        }
      ]
    },
    {
      "cell_type": "code",
      "source": [
        "#Q16. . Create a class Animal with an abstract method sound(). Create two derived classes Cow and Sheep that\n",
        "#implement the sound() method.\n",
        "\n",
        "from abc import ABC, abstractmethod\n",
        "\n",
        "class Animal(ABC):\n",
        "    @abstractmethod\n",
        "    def sound(self):\n",
        "        pass\n",
        "\n",
        "class Cow(Animal):\n",
        "    def sound(self):\n",
        "        return \"Moo\"\n",
        "\n",
        "class Sheep(Animal):\n",
        "    def sound(self):\n",
        "        return \"Baa\"\n",
        "\n",
        "# Example usage\n",
        "cow = Cow()\n",
        "print(f\"The cow makes this sound: {cow.sound()}\")\n",
        "\n",
        "sheep = Sheep()\n",
        "print(f\"The sheep makes this sound: {sheep.sound()}\")\n"
      ],
      "metadata": {
        "id": "Ochtc4keIvFT",
        "outputId": "01e5dd59-dd9f-4705-ffae-2afaf477c886",
        "colab": {
          "base_uri": "https://localhost:8080/"
        }
      },
      "execution_count": 21,
      "outputs": [
        {
          "output_type": "stream",
          "name": "stdout",
          "text": [
            "The cow makes this sound: Moo\n",
            "The sheep makes this sound: Baa\n"
          ]
        }
      ]
    },
    {
      "cell_type": "code",
      "source": [
        "#Q17. Create a class Book with attributes title, author, and year_published. Add a method get_book_info() that\n",
        "#returns a formatted string with the book's details.\n",
        "\n",
        "class Book:\n",
        "    def __init__(self, title, author, year_published):\n",
        "        self.title = title\n",
        "        self.author = author\n",
        "        self.year_published = year_published\n",
        "\n",
        "    def get_book_info(self):\n",
        "        return f\"Title: {self.title}\\nAuthor: {self.author}\\nYear Published: {self.year_published}\"\n",
        "\n",
        "# Example usage\n",
        "book1 = Book(\"The Great Gatsby\", \"F. Scott Fitzgerald\", 1925)\n",
        "print(book1.get_book_info())\n",
        "\n",
        "book2 = Book(\"To Kill a Mockingbird\", \"Harper Lee\", 1960)\n",
        "print(book2.get_book_info())\n"
      ],
      "metadata": {
        "id": "JgvokFzbI9Ts",
        "outputId": "71de41e9-02b1-41ad-abf3-bfce78d2113a",
        "colab": {
          "base_uri": "https://localhost:8080/"
        }
      },
      "execution_count": 22,
      "outputs": [
        {
          "output_type": "stream",
          "name": "stdout",
          "text": [
            "Title: The Great Gatsby\n",
            "Author: F. Scott Fitzgerald\n",
            "Year Published: 1925\n",
            "Title: To Kill a Mockingbird\n",
            "Author: Harper Lee\n",
            "Year Published: 1960\n"
          ]
        }
      ]
    },
    {
      "cell_type": "code",
      "source": [
        "#Q18.  Create a class House with attributes address and price. Create a derived class Mansion that adds an\n",
        "#attribute number_of_rooms\n",
        "\n",
        "class House:\n",
        "    def __init__(self, address, price):\n",
        "        self.address = address\n",
        "        self.price = price\n",
        "\n",
        "    def get_house_info(self):\n",
        "        return f\"Address: {self.address}\\nPrice: ${self.price}\"\n",
        "\n",
        "class Mansion(House):\n",
        "    def __init__(self, address, price, number_of_rooms):\n",
        "        super().__init__(address, price)  # Call the parent class constructor\n",
        "        self.number_of_rooms = number_of_rooms\n",
        "\n",
        "    def get_mansion_info(self):\n",
        "        house_info = self.get_house_info()  # Get info from the House class\n",
        "        return f\"{house_info}\\nNumber of Rooms: {self.number_of_rooms}\"\n",
        "\n",
        "# Example usage\n",
        "house = House(\"123 Main St\", 250000)\n",
        "print(house.get_house_info())\n",
        "\n",
        "mansion = Mansion(\"456 Luxury Ln\", 5000000, 10)\n",
        "print(mansion.get_mansion_info())\n"
      ],
      "metadata": {
        "id": "643nV-R9JF_X",
        "outputId": "cad49a7d-6142-4148-9910-2afe4bf1647c",
        "colab": {
          "base_uri": "https://localhost:8080/"
        }
      },
      "execution_count": 23,
      "outputs": [
        {
          "output_type": "stream",
          "name": "stdout",
          "text": [
            "Address: 123 Main St\n",
            "Price: $250000\n",
            "Address: 456 Luxury Ln\n",
            "Price: $5000000\n",
            "Number of Rooms: 10\n"
          ]
        }
      ]
    },
    {
      "cell_type": "code",
      "source": [],
      "metadata": {
        "id": "hWOvh2GNJbsI"
      },
      "execution_count": null,
      "outputs": []
    }
  ]
}